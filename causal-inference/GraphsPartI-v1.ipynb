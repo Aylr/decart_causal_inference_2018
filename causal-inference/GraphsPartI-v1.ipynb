{
 "cells": [
  {
   "cell_type": "markdown",
   "metadata": {},
   "source": [
    "Graphs, and _directed acyclic graphs_ (\"DAGs\") in particular, are widely used to represent causal models.  A causal model consists of hypotheses about a data generating process. \n",
    "\n",
    "What follows is a brief instruction to DAGs.  For our purposes here, variables will be represented as letters like X and Y."
   ]
  },
  {
   "cell_type": "markdown",
   "metadata": {},
   "source": [
    "### What's A DAG?"
   ]
  },
  {
   "cell_type": "markdown",
   "metadata": {},
   "source": [
    "A DAG is a graph that has no loops or \"cycles\" in it.  Let X and Y be variables.  In a graph they might be called _nodes_.  Imagine that X has a _direct effect_ on Y.  We can represent this like:  \n",
    "\n",
    "\\begin{align}\n",
    "X \\to Y\n",
    "\\end{align}  \n",
    "\n",
    "The arrow is a *directed edge* in this graph.  It's like a one way street. \n",
    "\n",
    "A way of thinking about $X \\to Y$ that J. Pearl has suggested is that Y \"listens to X\" to determine what value it should have, like $Y = y_i$ if $X = x_i$.  \n",
    "\n",
    "This is *not* be a DAG: \n",
    "\n",
    "\\begin{align}\n",
    "X \\to Y \\\\\n",
    "X \\leftarrow Y \n",
    "\\end{align}\n",
    "\n",
    "A DAG can't have loops."
   ]
  },
  {
   "cell_type": "markdown",
   "metadata": {},
   "source": [
    "### Chains, Forks, Colliders"
   ]
  },
  {
   "cell_type": "markdown",
   "metadata": {},
   "source": [
    "Here, Z is another variable.  \n",
    "\n",
    "A *chain*:\n",
    "\n",
    "\\begin{align}\n",
    "Z \\to X \\to Y\n",
    "\\end{align}\n",
    "\n",
    "A *fork*:\n",
    "\n",
    "\\begin{align}\n",
    "X \\leftarrow Z \\to Y\n",
    "\\end{align}\n",
    "\n",
    "A *collider*:\n",
    "    \n",
    "\\begin{align}\n",
    "X \\to Z \\leftarrow Y\n",
    "\\end{align}\n",
    "\n",
    "You may recognize these as Wright's(1921) basic structures for path models.  Each has implications for the total and direct effects that can be estimated given a model that includes them."
   ]
  },
  {
   "cell_type": "markdown",
   "metadata": {},
   "source": [
    "### Mediation"
   ]
  },
  {
   "cell_type": "markdown",
   "metadata": {},
   "source": [
    "In equation (4), above, X fully mediates the effect of Z on Y.  \n",
    "\n",
    "Here's an example of _partial_ mediation.  Z partially mediates X's effect on Y.  \n",
    "\n",
    "\\begin{align}\n",
    "X \\to Y \\\\\n",
    "X \\to Z \\\\\n",
    "Z \\to Y\n",
    "\\end{align}\n",
    "\n",
    "An alternative representation of the same model:  \n",
    "\n",
    "\\begin{align}\n",
    "X \\to Y,Z \\\\\n",
    "Z \\to Y\n",
    "\\end{align}"
   ]
  },
  {
   "cell_type": "markdown",
   "metadata": {},
   "source": [
    "### Confounder"
   ]
  },
  {
   "cell_type": "markdown",
   "metadata": {},
   "source": [
    "Z would be a confounder of the direct effect of X on Y:  \n",
    "\n",
    "\\begin{align}\n",
    "X \\to Y \\\\\n",
    "Z \\to X \\\\\n",
    "Z  \\to Y \n",
    "\\end{align}  \n",
    "\n",
    "Note that Z is a fork node in this models'graph, like in (5)."
   ]
  },
  {
   "cell_type": "markdown",
   "metadata": {},
   "source": [
    "### Parents, Children, Ancestors, and Descendants"
   ]
  },
  {
   "cell_type": "markdown",
   "metadata": {},
   "source": [
    "A DAG can have a large extended family.  \n",
    "\n",
    "In (7), above, X is a *parent* of Y, and Y is a *child* of Z.  \n",
    "\n",
    "In the chain in (4), Z is an ancestor of Y, and Y a descendant of Z."
   ]
  },
  {
   "cell_type": "markdown",
   "metadata": {},
   "source": [
    "### Endogenous and Exogenous Variables"
   ]
  },
  {
   "cell_type": "markdown",
   "metadata": {},
   "source": [
    "A variable in a graph that has no arrows coming into it is _exogenous_.  One that has one or more arrows into it is _endogenous_."
   ]
  },
  {
   "cell_type": "markdown",
   "metadata": {},
   "source": [
    "### Unobserved Variables"
   ]
  },
  {
   "cell_type": "markdown",
   "metadata": {},
   "source": [
    "Variables for which there is no data available can be included in a DAG. Observed variables can be endogenous (dependent) on them.  An error term for a regression model is an example.  \n",
    "\n",
    "There can be observed, or _latent_ variables that are not errors, per se.  An example is a latent variable in a structural equation model (SEM) that is represented by a _measurement model_ consisting of _manifest, fallible indicator variables_, variables like those that by design load on a specific factor in confirmatory factor analysis."
   ]
  },
  {
   "cell_type": "markdown",
   "metadata": {},
   "source": [
    "**EXERCISE!**"
   ]
  },
  {
   "cell_type": "markdown",
   "metadata": {},
   "source": [
    "Using notation like in the above examples, specify graphs for the following models.  No need to use LaTex; just use -> or <- for your arrows.  Each of the following, 1., 2., etc., specifies a model.\n",
    "\n",
    "1. X1 and X2 have direct effects on Y  \n",
    "2. X1 has a direct on Y1, X2 has direct effect on Y2\n",
    "3. Z1 has a direct effect on both X, and Y, X has a direct effect on Y, X has a direct effect on Y, X has a direct effect on Z2, and Z2 has a direct effect on Y."
   ]
  }
 ],
 "metadata": {
  "hide_input": false,
  "kernelspec": {
   "display_name": "Python 3",
   "language": "python",
   "name": "python3"
  },
  "language_info": {
   "codemirror_mode": {
    "name": "ipython",
    "version": 3
   },
   "file_extension": ".py",
   "mimetype": "text/x-python",
   "name": "python",
   "nbconvert_exporter": "python",
   "pygments_lexer": "ipython3",
   "version": "3.5.5"
  },
  "latex_envs": {
   "LaTeX_envs_menu_present": true,
   "autoclose": false,
   "autocomplete": true,
   "bibliofile": "biblio.bib",
   "cite_by": "apalike",
   "current_citInitial": 1,
   "eqLabelWithNumbers": true,
   "eqNumInitial": 1,
   "hotkeys": {
    "equation": "Ctrl-E",
    "itemize": "Ctrl-I"
   },
   "labels_anchors": false,
   "latex_user_defs": false,
   "report_style_numbering": false,
   "user_envs_cfg": false
  }
 },
 "nbformat": 4,
 "nbformat_minor": 2
}
