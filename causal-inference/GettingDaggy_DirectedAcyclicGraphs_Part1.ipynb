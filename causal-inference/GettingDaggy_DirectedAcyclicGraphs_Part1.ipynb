{
 "cells": [
  {
   "cell_type": "markdown",
   "metadata": {},
   "source": [
    "In the following we use R packages to work through some DAG examples that illustrate features of _structural causal models_."
   ]
  },
  {
   "cell_type": "markdown",
   "metadata": {},
   "source": [
    "First, import required Python:"
   ]
  },
  {
   "cell_type": "code",
   "execution_count": 1,
   "metadata": {},
   "outputs": [],
   "source": [
    "from IPython.core.interactiveshell import InteractiveShell\n",
    "InteractiveShell.ast_node_interactivity = \"all\"\n",
    "import pandas as pd\n",
    "import numpy as np"
   ]
  },
  {
   "cell_type": "code",
   "execution_count": 3,
   "metadata": {},
   "outputs": [],
   "source": [
    "# This will probably just need to be commented out.  It's a kluge for my environ\n",
    "# import os\n",
    "# os.environ['R_HOME']='/home/lynd/anaconda36/lib/R'"
   ]
  },
  {
   "cell_type": "code",
   "execution_count": 4,
   "metadata": {},
   "outputs": [
    {
     "name": "stdout",
     "output_type": "stream",
     "text": [
      "('3', '4.3', '', 73796)\n"
     ]
    }
   ],
   "source": [
    "import rpy2\n",
    "rpy2.__version__\n",
    "from rpy2.rinterface import R_VERSION_BUILD\n",
    "print(R_VERSION_BUILD)"
   ]
  },
  {
   "cell_type": "code",
   "execution_count": 5,
   "metadata": {},
   "outputs": [],
   "source": [
    "import rpy2.robjects as robjects"
   ]
  },
  {
   "cell_type": "code",
   "execution_count": 6,
   "metadata": {},
   "outputs": [],
   "source": [
    "from rpy2.robjects.packages import importr\n",
    "base=importr('base')\n",
    "utils=importr('utils')\n",
    "stats=importr('stats')\n",
    "rgrDevs=importr('grDevices')"
   ]
  },
  {
   "cell_type": "markdown",
   "metadata": {},
   "source": [
    "There are a couple of R packages that can be used to define and evaluate DAGs.  These include `dagitty`, `dagR`, and `ggm`.   Here we're going to start with `dagR` to specify some basic types of causal graphs.  Personally I find `daggity` easier, so we'll move on to it quickly."
   ]
  },
  {
   "cell_type": "code",
   "execution_count": 7,
   "metadata": {},
   "outputs": [],
   "source": [
    "rdagR=importr('dagR')"
   ]
  },
  {
   "cell_type": "markdown",
   "metadata": {},
   "source": [
    "In his seminal work about path analysis, Wright(1921) defined three basic kinds of directed graph structures:  \n",
    "\n",
    "\\begin{align}\n",
    "Z \\to X \\to Y \\\\\n",
    "X \\leftarrow Z \\to Y \\\\\n",
    "X \\to Z \\leftarrow Y\n",
    "\\end{align}  \n",
    "\n",
    "Let's do each of these using `dagR`.  First, lets try a couple of built-in demos to make sure things are working."
   ]
  },
  {
   "cell_type": "code",
   "execution_count": 8,
   "metadata": {},
   "outputs": [],
   "source": [
    "dagDemo1=rdagR.demo_dag1()"
   ]
  },
  {
   "cell_type": "code",
   "execution_count": 9,
   "metadata": {},
   "outputs": [],
   "source": [
    "dagDemoDraw=rdagR.dag_draw(dagDemo1)"
   ]
  },
  {
   "cell_type": "markdown",
   "metadata": {},
   "source": [
    "OK?  Got a graph?  So, now let's set up a $X \\to X \\to Y$ graph, eqn 1, above. First we'll close the graph we just made."
   ]
  },
  {
   "cell_type": "code",
   "execution_count": 32,
   "metadata": {
    "scrolled": true
   },
   "outputs": [
    {
     "data": {
      "text/plain": [
       "rpy2.rinterface.NULL"
      ]
     },
     "execution_count": 32,
     "metadata": {},
     "output_type": "execute_result"
    }
   ],
   "source": [
    "rgrDevs.graphics_off() # close the graph window"
   ]
  },
  {
   "cell_type": "markdown",
   "metadata": {},
   "source": [
    "In this next bit of code you'll notice the use of `robjects` methods to define string and int R vectors."
   ]
  },
  {
   "cell_type": "code",
   "execution_count": 12,
   "metadata": {},
   "outputs": [],
   "source": [
    "dag1=rdagR.dag_init(y_name='Y',x_name=\"X\",  # labels for Y and X\n",
    "    cov_names=robjects.StrVector(['Z']),    # define a covariate Z\n",
    "    covs=robjects.IntVector([1]),           # specify an observed covariate\n",
    "    arcs=robjects.IntVector([0,-1,1,0]))    # specify \"arcs\" (arrows) betw vars"
   ]
  },
  {
   "cell_type": "markdown",
   "metadata": {},
   "source": [
    "Let's take a look at the graph:"
   ]
  },
  {
   "cell_type": "code",
   "execution_count": 13,
   "metadata": {},
   "outputs": [],
   "source": [
    "dag1Graph=rdagR.dag_draw(dag1,noxy=2)"
   ]
  },
  {
   "cell_type": "markdown",
   "metadata": {},
   "source": [
    "The default doesn't put Z, X, and Y in a \"chain,\" but it's the graph we want. Input parameters in the key/value arguments are a little obtuse. Here's how you can get R help about the `dagR` package:"
   ]
  },
  {
   "cell_type": "code",
   "execution_count": 16,
   "metadata": {},
   "outputs": [],
   "source": [
    "import rpy2.robjects.help as rh\n",
    "dagR_help=rh.Package('dagR')"
   ]
  },
  {
   "cell_type": "code",
   "execution_count": 17,
   "metadata": {},
   "outputs": [
    {
     "name": "stdout",
     "output_type": "stream",
     "text": [
      "description\n",
      "-----------\n",
      "\n",
      "\n",
      " Allows setting up a new DAG.\n",
      "  See the  demo.dag0  to  demo.dag6  functions for some example specifications.\n",
      " \n",
      "\n",
      "\n"
     ]
    }
   ],
   "source": [
    "rInit=dagR_help.fetch('dag.init')\n",
    "rInit.sections.keys()\n",
    "print(rInit.to_docstring(('description',)))"
   ]
  },
  {
   "cell_type": "markdown",
   "metadata": {},
   "source": [
    "It can be a little cumbersome getting R documentation out through rpy2.  An alternative is to look for it online."
   ]
  },
  {
   "cell_type": "markdown",
   "metadata": {},
   "source": [
    "In the specification of dag1Graph, above, the vector in the \"arcs\" argument defines arrows between variables using pairs of variable (node) identifiers. 0 is the Tx or exposure variable X, and -1 is the outcome variable Y.  Z is 1.   So [0,-1, 1 0] means that there's an arrow from X to Y, and an arrow from Z to X."
   ]
  },
  {
   "cell_type": "markdown",
   "metadata": {},
   "source": [
    "**EXERCISE**  Modify the above code to produce the other two graphic structures.  \n",
    "\n",
    "_Questions_ Which of the structures has been called a _collider_?  Which one a _fork_?"
   ]
  },
  {
   "cell_type": "markdown",
   "metadata": {},
   "source": [
    "### Adjusting for Z"
   ]
  },
  {
   "cell_type": "markdown",
   "metadata": {},
   "source": [
    "So far all we've done is to make a couple of graphs using X, Y and Z.  Let's add an edge to our DAG."
   ]
  },
  {
   "cell_type": "code",
   "execution_count": 39,
   "metadata": {},
   "outputs": [],
   "source": [
    "addedArc=robjects.IntVector([2,3])\n",
    "dag2=rdagR.add_arc(dag1,arc=addedArc)"
   ]
  },
  {
   "cell_type": "code",
   "execution_count": 40,
   "metadata": {},
   "outputs": [],
   "source": [
    "dag2Graph=rdagR.dag_draw(dag2)"
   ]
  },
  {
   "cell_type": "markdown",
   "metadata": {},
   "source": [
    "So, does adjusting for Z help in estimating $X \\to Y$?"
   ]
  },
  {
   "cell_type": "code",
   "execution_count": 41,
   "metadata": {},
   "outputs": [],
   "source": [
    "dag2AdjZ=rdagR.dag_adjust(dag2,A=2)\n",
    "#A=2 indicates Z as the covariate to adjust for"
   ]
  },
  {
   "cell_type": "code",
   "execution_count": 42,
   "metadata": {},
   "outputs": [],
   "source": [
    "dag2AdGraph=rdagR.dag_draw(dag2AdjZ)"
   ]
  },
  {
   "cell_type": "markdown",
   "metadata": {},
   "source": [
    "**EXERCISE**  Create the graph $X \\to X \\leftarrow Y$.   check to see what happens if you adjust for Z.\n",
    "\n",
    "**EXERCISE**  Come up with a model of your own that has _two_ covariates, Z1 and Z2, and that has one or more chains (eqn 1, above), a fork (eqn 2), and a collider (eqn 3).   Try to imagine what the effects might be of adjusting for either Z1 or Z2."
   ]
  },
  {
   "cell_type": "markdown",
   "metadata": {},
   "source": [
    "The `dagR` package is rather cumbersome to use, even in R.  But it does have some useful functionality.  \n",
    "\n",
    "Next stop: `dagitty` for DAGs."
   ]
  }
 ],
 "metadata": {
  "hide_input": false,
  "kernelspec": {
   "display_name": "Python 3",
   "language": "python",
   "name": "python3"
  },
  "language_info": {
   "codemirror_mode": {
    "name": "ipython",
    "version": 3
   },
   "file_extension": ".py",
   "mimetype": "text/x-python",
   "name": "python",
   "nbconvert_exporter": "python",
   "pygments_lexer": "ipython3",
   "version": "3.5.5"
  },
  "latex_envs": {
   "LaTeX_envs_menu_present": true,
   "autoclose": false,
   "autocomplete": true,
   "bibliofile": "biblio.bib",
   "cite_by": "apalike",
   "current_citInitial": 1,
   "eqLabelWithNumbers": true,
   "eqNumInitial": 1,
   "hotkeys": {
    "equation": "Ctrl-E",
    "itemize": "Ctrl-I"
   },
   "labels_anchors": false,
   "latex_user_defs": false,
   "report_style_numbering": false,
   "user_envs_cfg": false
  }
 },
 "nbformat": 4,
 "nbformat_minor": 2
}
