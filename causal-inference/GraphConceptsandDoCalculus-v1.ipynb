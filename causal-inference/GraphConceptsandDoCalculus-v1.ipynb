{
 "cells": [
  {
   "cell_type": "markdown",
   "metadata": {},
   "source": [
    "    Here we consider some additional DAG model concepts, and a brief overview of Pearl's \"do-calculus.\""
   ]
  },
  {
   "cell_type": "markdown",
   "metadata": {},
   "source": [
    "### Backdoors, Blocked Paths, and Open Paths"
   ]
  },
  {
   "cell_type": "markdown",
   "metadata": {},
   "source": [
    "We're working with X, Y, and Z here.  X is a treatment or exposure variable, Y is an outcome variable, and Z is another observed variable that may be related to X and Y in various ways.  \n",
    "\n",
    "Try using `dagitty` to draw each one of the following\n",
    "\n",
    "Here, there is a _backdoor_ path back to X through Z.  It's an _open_ path.\n",
    "\n",
    "\\begin{align*}\n",
    "Z \\to Y \\\\\n",
    "Z \\to X\n",
    "\\end{align*}\n",
    " \n",
    " Here's another graph.  This one is a _blocked_ path.  It's _closed_.\n",
    " \n",
    " \\begin{align*}\n",
    " X \\to Z \\\\\n",
    " Y \\to Z\n",
    " \\end{align*}"
   ]
  },
  {
   "cell_type": "markdown",
   "metadata": {},
   "source": [
    "### Four Conclusions About Simple Graphs, Above"
   ]
  },
  {
   "cell_type": "markdown",
   "metadata": {},
   "source": [
    "(0) Conditioning on a descendant, e.g. conditioning on Z in the blocked path example, above, can be expected to result in dependency between X and Y  \n",
    "(1) An open backdoor can result in X and Y being correlated.  \n",
    "(2) Adjustments (conditioning) can *open* backdoors, resulting in confounding.  \n",
    "(3) X and Y association is unconfounded if the only open path from X to Y consists of arrows in the direction of Y from X."
   ]
  },
  {
   "cell_type": "markdown",
   "metadata": {},
   "source": [
    "### d-separation"
   ]
  },
  {
   "cell_type": "markdown",
   "metadata": {},
   "source": [
    "d is for _directional_.  \n",
    "\n",
    "d-separation, or d-sep, is a rule for concluding whether X and Y are independent conditional on Z.  \n",
    "\n",
    "X, Y and Z may be single variables, or sets of variables.\n",
    "\n",
    "The \"U\" in what follows is just another variable or set of variables.\n",
    "\n",
    "If there is an open or unblocked path between X and Y, X and Y are _not_ d-sep.\n",
    "\n",
    "**QUESTIONS** Are X and Y d-sep in each of the following?\n",
    "\n",
    "(a) $X \\to Y$  \n",
    "\n",
    "(b) $X \\to U \\to Y$  \n",
    "\n",
    "(c) $X \\to U \\leftarrow Y$  \n",
    "\n",
    "(d) $X \\leftarrow U \\leftarrow Z \\to Y$  \n"
   ]
  },
  {
   "cell_type": "markdown",
   "metadata": {},
   "source": [
    "### Examples"
   ]
  },
  {
   "attachments": {},
   "cell_type": "markdown",
   "metadata": {},
   "source": [
    "In the following two graphs, what if anything would you condition on to unconfound the effect of X on Y?  U, V and Z are observed variables.\n",
    "\n",
    "![greenland-brumback-fig1-2002.png](greenland-brumback-fig1-2002.png)\n",
    "\n",
    "What would you condition on to unconfound the relationship between X & Y? (From Greenland and Brumack, 2002.)\n",
    "\n",
    "Here are graphs showing \"simple\" mediation in (a), and in (b) a \"fork\" that confounds X -> Y.  What if anything would you condition on in (b) to unconfound the relationship between X and Y? (From Pearl, 2012.)\n",
    "\n",
    "![pearl-2012-fig-1.png](pearl-2012-fig-1.png)"
   ]
  },
  {
   "cell_type": "markdown",
   "metadata": {},
   "source": [
    "### do-calculus"
   ]
  },
  {
   "cell_type": "markdown",
   "metadata": {},
   "source": [
    "Pearl(1995) developed what's called the _do-calculus_ (hereafter, \"do-calc\") to make it easier to identify direct causal effects in non-parametric models. It has since then also been applied to problems including the generalization of results of observational studies, and to data fusion.  \n",
    "\n",
    "The operations, or rules, of do-calc are applied sequentially to a graph.  They involve first imagining that a treatment or exposure variable is set to a particular value (the \"do\" part), and then modifying the graph to create a series of conditional independencies between Y (one or more outcome variables) and one or more sets of confounding Z's.\n",
    "\n",
    "In the details the do-calc is complex.  But its main benefits are twofold.  First, it permits using different sets of Z variables to render conditionally independent different portions of a graph.  Second, It offers a means of determining identification beyond back door adjustments."
   ]
  }
 ],
 "metadata": {
  "hide_input": false,
  "kernelspec": {
   "display_name": "Python 3",
   "language": "python",
   "name": "python3"
  },
  "language_info": {
   "codemirror_mode": {
    "name": "ipython",
    "version": 3
   },
   "file_extension": ".py",
   "mimetype": "text/x-python",
   "name": "python",
   "nbconvert_exporter": "python",
   "pygments_lexer": "ipython3",
   "version": "3.6.5"
  },
  "latex_envs": {
   "LaTeX_envs_menu_present": true,
   "autoclose": false,
   "autocomplete": true,
   "bibliofile": "biblio.bib",
   "cite_by": "apalike",
   "current_citInitial": 1,
   "eqLabelWithNumbers": true,
   "eqNumInitial": 1,
   "hotkeys": {
    "equation": "Ctrl-E",
    "itemize": "Ctrl-I"
   },
   "labels_anchors": false,
   "latex_user_defs": false,
   "report_style_numbering": false,
   "user_envs_cfg": false
  },
  "toc": {
   "base_numbering": 1,
   "nav_menu": {},
   "number_sections": true,
   "sideBar": true,
   "skip_h1_title": false,
   "title_cell": "Table of Contents",
   "title_sidebar": "Contents",
   "toc_cell": false,
   "toc_position": {},
   "toc_section_display": true,
   "toc_window_display": false
  },
  "varInspector": {
   "cols": {
    "lenName": 16,
    "lenType": 16,
    "lenVar": 40
   },
   "kernels_config": {
    "python": {
     "delete_cmd_postfix": "",
     "delete_cmd_prefix": "del ",
     "library": "var_list.py",
     "varRefreshCmd": "print(var_dic_list())"
    },
    "r": {
     "delete_cmd_postfix": ") ",
     "delete_cmd_prefix": "rm(",
     "library": "var_list.r",
     "varRefreshCmd": "cat(var_dic_list()) "
    }
   },
   "types_to_exclude": [
    "module",
    "function",
    "builtin_function_or_method",
    "instance",
    "_Feature"
   ],
   "window_display": false
  }
 },
 "nbformat": 4,
 "nbformat_minor": 2
}
