{
 "cells": [
  {
   "cell_type": "markdown",
   "metadata": {},
   "source": [
    "Modeling using **Copulas** is an instrument-free alternative for handling endogeneous regressors.  \n",
    "\n",
    "A [Copula](https://en.wikipedia.org/wiki/Copula_(probability_theory) is a multivariate probability distribution with uniform probability distributions on variables."
   ]
  },
  {
   "cell_type": "markdown",
   "metadata": {},
   "source": [
    "**Bivariate Case**  \n",
    "\n",
    "Consider two random variables $X_1$ and $X_2$, with distribution functions $F_1(X_1)$ and $F_2(X_2)$.  According to Sklar's (1959) theorem,  \n",
    "\n",
    "\\begin{align*}  \n",
    "F(X_1=x_1, X_2=x_2)=C(F_1(x_1),F_2(x_2)) \\\\\n",
    "\\end{align*}\n",
    "\n",
    "where $C(u_1,u_2)$ is a distribution function for a bivariate pair of uniform random variables.  \"C\" is the *copula function*.  \n",
    "\n",
    "Different multivariate distributions can be used for copulas.  Two that are commonly used are multivariate Gaussian, and multivariate elliptical.  "
   ]
  },
  {
   "cell_type": "markdown",
   "metadata": {},
   "source": [
    "**Handling Endogenous Regressors** \n",
    "\n",
    "Park and Gupta (2012) describe a semi-parametric method for modeling the joint distribution of continuous or discrete endogenous regressors and the error term of structural equations.\n",
    "\n",
    "Sungho Park, Sachin Gupta, (2012) Handling Endogenous Regressors by Joint Estimation Using Copulas. Marketing Science\n",
    "31(4):567-586. https://doi.org/10.1287/mksc.1120.0718"
   ]
  }
 ],
 "metadata": {
  "hide_input": false,
  "kernelspec": {
   "display_name": "Python 3",
   "language": "python",
   "name": "python3"
  },
  "language_info": {
   "codemirror_mode": {
    "name": "ipython",
    "version": 3
   },
   "file_extension": ".py",
   "mimetype": "text/x-python",
   "name": "python",
   "nbconvert_exporter": "python",
   "pygments_lexer": "ipython3",
   "version": "3.6.5"
  },
  "latex_envs": {
   "LaTeX_envs_menu_present": true,
   "autoclose": false,
   "autocomplete": true,
   "bibliofile": "biblio.bib",
   "cite_by": "apalike",
   "current_citInitial": 1,
   "eqLabelWithNumbers": true,
   "eqNumInitial": 1,
   "hotkeys": {
    "equation": "Ctrl-E",
    "itemize": "Ctrl-I"
   },
   "labels_anchors": false,
   "latex_user_defs": false,
   "report_style_numbering": false,
   "user_envs_cfg": false
  }
 },
 "nbformat": 4,
 "nbformat_minor": 2
}
