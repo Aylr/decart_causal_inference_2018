{
 "cells": [
  {
   "cell_type": "markdown",
   "metadata": {},
   "source": [
    "Linear regression models of various kinds have often been applied to non-experimental data to model causal relations.\n",
    "\n",
    "The simplest applications have a single, continuous outcome variable, and a single treatment or exposure variable, and often one or more covariates to mitigate bias.  Estimation is by way of OLS.  We consider covariate adjustments to reduce bias."
   ]
  },
  {
   "cell_type": "markdown",
   "metadata": {},
   "source": [
    "### But First, Looking Back..."
   ]
  },
  {
   "cell_type": "markdown",
   "metadata": {},
   "source": [
    "Reflect back a minute on the previous regression example that was about inpatient satisfaction.  We assumed that the rating scale data are equal interval, continuous measures.  Certainly the _numerical_ difference, say, between ratings responses of 4 and 5 is the same as that for 7 and 8.\n",
    "\n",
    "But what if such differences between between two numeric responses on these scales didn't always represent equal _psychological_ intervals, equal differences in perception or affect? What if the numbers are just labels for categories that are ordered, like ranks of experiences?\n",
    "\n",
    "A measurement taxonomy widely adopted in social science measurement is the [_Levels of Measurement_](https://en.wikipedia.org/wiki/Level_of_measurement) classification described by S.S. Stevens.  Stevens defined four types of measurement scales in terms of their properties and the kinds of mathematical operations that are appropriate for use on data on them.  The four types are:  \n",
    "\n",
    "* nominal - unordered categories, measures are classifications or memberships\n",
    "* ordinal - ordered categories e.g. comparisons of rankings\n",
    "* interval - metric differences, math operations not requiring an absolute origin, e.g. addition, subtraction\n",
    "* ratio - magnitudes and metric quantities, operations accommodating absolute measurement scale origins  \n",
    "\n",
    "What can be assumed about the level of measurement of psychological scales has implications for how it's best to model it or to statistically describe it.  It may make sense to average household incomes, but it doesn't make sense to do so with the names of members of a household.  \n",
    "\n",
    "**QUESTION**  \n",
    "What if the patient satisfaction data were ordinal measures?  How might that change how you would approach regressing stated satisfaction on the other variables?"
   ]
  },
  {
   "cell_type": "markdown",
   "metadata": {},
   "source": [
    "### Facial Burn Data"
   ]
  },
  {
   "cell_type": "markdown",
   "metadata": {},
   "source": [
    "Here and subsequently we're going to make use a small (n=77) data set about facial burns and their psychological ramifications that's from Dutch burn researchers."
   ]
  },
  {
   "cell_type": "markdown",
   "metadata": {},
   "source": [
    "The data are in the file `FacialBurns.csv`.  The variables in it are as follows:  \n",
    "\n",
    "* Selfesteem = Rosenberg's self-esteem scale. 0 to 30, >=15 is positive view.  Measured 3 mo. post injury\n",
    "* HADS = Combined anxiety and depression subscale scores, Hospital Anxiety and Depression Scale.  0 - 42, higher scores indicate greater anxiety+depression. Measured 3 mo. post injury\n",
    "* Age = age in years at time of injury\n",
    "* TBSA = Total burned surface area (%).  Measured at time of injury\n",
    "* Sex = 1 = male, 2 = female "
   ]
  },
  {
   "cell_type": "markdown",
   "metadata": {},
   "source": [
    "### Packages"
   ]
  },
  {
   "cell_type": "code",
   "execution_count": 5,
   "metadata": {},
   "outputs": [],
   "source": [
    "from IPython.core.interactiveshell import InteractiveShell\n",
    "InteractiveShell.ast_node_interactivity = \"all\"\n",
    "import pandas as pd\n",
    "import numpy as np"
   ]
  },
  {
   "cell_type": "code",
   "execution_count": 2,
   "metadata": {},
   "outputs": [
    {
     "data": {
      "text/html": [
       "<style>.container { width:90% !important; }</style>"
      ],
      "text/plain": [
       "<IPython.core.display.HTML object>"
      ]
     },
     "metadata": {},
     "output_type": "display_data"
    }
   ],
   "source": [
    "# This bit widens all cells in this Notebook\n",
    "from IPython.core.display import display, HTML\n",
    "display(HTML(\"<style>.container { width:90% !important; }</style>\"))"
   ]
  },
  {
   "cell_type": "code",
   "execution_count": 2,
   "metadata": {},
   "outputs": [],
   "source": [
    "# This can just be commented out.  It's a kluge for one of my environ\n",
    "# import os\n",
    "# os.environ['R_HOME']='/home/lynd/anaconda36/lib/R'"
   ]
  },
  {
   "cell_type": "code",
   "execution_count": 3,
   "metadata": {},
   "outputs": [],
   "source": [
    "import rpy2\n",
    "import rpy2.robjects as robjects\n",
    "from rpy2.robjects.packages import importr\n",
    "import rpy2.interactive as r\n",
    "import rpy2.interactive.packages\n",
    "base=importr('base')\n",
    "utils=importr('utils')\n",
    "stats=importr('stats')"
   ]
  },
  {
   "cell_type": "markdown",
   "metadata": {},
   "source": [
    "### Modeling"
   ]
  },
  {
   "cell_type": "markdown",
   "metadata": {},
   "source": [
    "**MODEL 1**\n",
    "\n",
    "The authors of the research have hypothesized that self esteem \"causes\" anxiety+depression as measured by HADS.  anxiety+depression \"listens\" to self esteem, to use a Pearl turn of phrase.  \n",
    "\n",
    "**EXERCISE**  \n",
    "\n",
    "Using dagitty.net, draw a graphical model in which self esteem \"causes\" HADS.  be sure to include any unobserved (or inferred) variables.\n",
    "\n",
    "Estimate a bivariate regression model based on the graph you drew.\n",
    "\n",
    "What validity checks for your model should you do?  \n",
    "\n",
    "TIP: Refer to the R in Python Intro notebook.  Use the R package `lm` to estimate your model."
   ]
  },
  {
   "cell_type": "markdown",
   "metadata": {},
   "source": [
    "Your model may look something like this:  \n",
    "\n",
    "\\begin{align}\n",
    "\\hat{Y_i}=X_i\\hat{\\beta}+\\epsilon_i\n",
    "\\end{align}\n",
    "\n",
    "where $X_i$ is a vector with a 1 as an intercept term, and case i's value on the self esteem variable. $\\hat{\\beta}$ is a vector of regression coefficient estimates.  $\\epsilon_i$ is an error term, a value on an exogenous variable to be estimated, given the model specification.  \n",
    "\n",
    "**QUESTION**  \n",
    "What assumptions do you think are appropriate to assess when evaluating the results of fitting this model to the data?"
   ]
  },
  {
   "cell_type": "code",
   "execution_count": 6,
   "metadata": {},
   "outputs": [],
   "source": [
    "# Get the data\n",
    "\n",
    "FacialBurns=pd.read_csv('data/FacialBurns.csv')"
   ]
  },
  {
   "cell_type": "code",
   "execution_count": 7,
   "metadata": {},
   "outputs": [],
   "source": [
    "from rpy2.robjects import pandas2ri\n",
    "pandas2ri.activate()  # this is necessary"
   ]
  },
  {
   "cell_type": "code",
   "execution_count": 8,
   "metadata": {},
   "outputs": [],
   "source": [
    "# convert this pandas DataFrame to an R data.frame\n",
    "rFaceBurns=pandas2ri.py2ri(FacialBurns)"
   ]
  },
  {
   "cell_type": "code",
   "execution_count": 9,
   "metadata": {},
   "outputs": [],
   "source": [
    "# Define a model formula\n",
    "mod1Formula='HADS~Selfesteem'"
   ]
  },
  {
   "cell_type": "code",
   "execution_count": 10,
   "metadata": {},
   "outputs": [],
   "source": [
    "# model estimation\n",
    "mod1_Fit=stats.lm(mod1Formula,data=rFaceBurns)"
   ]
  },
  {
   "cell_type": "code",
   "execution_count": 11,
   "metadata": {},
   "outputs": [
    {
     "name": "stdout",
     "output_type": "stream",
     "text": [
      " [1] \"call\"          \"terms\"         \"residuals\"     \"coefficients\" \n",
      " [5] \"aliased\"       \"sigma\"         \"df\"            \"r.squared\"    \n",
      " [9] \"adj.r.squared\" \"fstatistic\"    \"cov.unscaled\" \n",
      "\n"
     ]
    }
   ],
   "source": [
    "mod1Summary=base.summary(mod1_Fit)\n",
    "print(mod1Summary.names)  # here is what's in the result"
   ]
  },
  {
   "cell_type": "code",
   "execution_count": 28,
   "metadata": {},
   "outputs": [
    {
     "name": "stdout",
     "output_type": "stream",
     "text": [
      "              Estimate Std. Error  t value     Pr(>|t|)\n",
      "(Intercept) 33.6540604  3.7592348  8.95237 1.834003e-13\n",
      "Selfesteem  -0.7707697  0.1147096 -6.71931 3.103480e-09\n",
      "\n"
     ]
    }
   ],
   "source": [
    "# Of interest here will be the coefficient for Self Esteem\n",
    "print(mod1Summary.rx2('coefficients'))"
   ]
  },
  {
   "cell_type": "code",
   "execution_count": 27,
   "metadata": {},
   "outputs": [],
   "source": [
    "# What Dx's do you think you should do, here? Looking at some graphs can be a good start.\n",
    "# matplotlib notebook or matplotlib inline, here?\n",
    "import matplotlib.pyplot as plt\n",
    "rPlot=robjects.r['plot']  # get the plot() method\n",
    "rGraphsOff=robjects.r[\"graphics.off\"]"
   ]
  },
  {
   "cell_type": "code",
   "execution_count": 28,
   "metadata": {},
   "outputs": [
    {
     "data": {
      "text/plain": [
       "rpy2.rinterface.NULL"
      ]
     },
     "execution_count": 28,
     "metadata": {},
     "output_type": "execute_result"
    }
   ],
   "source": [
    "rPlot(mod1_Fit) # default regression Dx plots\n",
    "plt.show()\n",
    "#rGraphsOff()"
   ]
  },
  {
   "cell_type": "code",
   "execution_count": 16,
   "metadata": {},
   "outputs": [],
   "source": [
    "# How are the residuals related to Self Esteem? Let's use seaborn, just for fun.\n",
    "import seaborn as sns"
   ]
  },
  {
   "cell_type": "code",
   "execution_count": 17,
   "metadata": {},
   "outputs": [
    {
     "data": {
      "text/plain": [
       "rpy2.robjects.vectors.FloatVector"
      ]
     },
     "execution_count": 17,
     "metadata": {},
     "output_type": "execute_result"
    }
   ],
   "source": [
    "# What type is this?\n",
    "type(mod1Summary.rx2('residuals'))"
   ]
  },
  {
   "cell_type": "code",
   "execution_count": 45,
   "metadata": {},
   "outputs": [
    {
     "data": {
      "text/plain": [
       "rpy2.robjects.vectors.IntVector"
      ]
     },
     "execution_count": 45,
     "metadata": {},
     "output_type": "execute_result"
    }
   ],
   "source": [
    "type(rFaceBurns.rx2('Selfesteem'))"
   ]
  },
  {
   "cell_type": "code",
   "execution_count": 29,
   "metadata": {},
   "outputs": [
    {
     "data": {
      "image/png": "[encoded data removed]",
      "text/plain": [
       "<Figure size 432x288 with 1 Axes>"
      ]
     },
     "metadata": {},
     "output_type": "display_data"
    }
   ],
   "source": [
    "# seaborn needs np arrays as input\n",
    "lowPlot1=sns.regplot(np.array(rFaceBurns.rx2('Selfesteem')),np.array(mod1Summary.rx2('residuals')),lowess=True)\n",
    "plt.show()"
   ]
  },
  {
   "cell_type": "markdown",
   "metadata": {},
   "source": [
    "### Causal Interpretation"
   ]
  },
  {
   "cell_type": "markdown",
   "metadata": {},
   "source": [
    "To interpret this model in a causal manner, we assume that the expected value of $Y_i$ can be estimated given $X_i$.  That is, $\\mathbf{E}[Y_i|X_i]$, a function of $X_i$.  This isn't a _causal_ assumption, but a statistical one. It's the population average of $Y_i$ given $X_i$, and is estimated using samples.  \n",
    "\n",
    "To make the \"jump\" to a causal interpretation, it's useful to consider consider potential outcomes. We can imagine what would happen to a particular burn patient's HADS were to have a different level of self esteem than the level actually reported by them. Imagine that we could \"assign\" that patient to have greater or lesser esteem. How much self esteem on average would this patient have as a result?\n",
    "\n",
    "Suppose we could somehow \"bump\" patient i's self esteem up a notch.  What we'd like to be able to estimate is what i's HADS score would be after the bump.  We'd didn't actually bump up i's self esteem, of course, so we can't know what i's score would be if we had.  But we can estimate the _average_ difference between the $\\mathbf{E}[Y_i]$ at the two levels of self esteem, assuming that the levels of self esteem that the patients where actually at were not determined by their HADS levels, which in this case would constitute a type of _selection bias_.  \n",
    "\n",
    "A question is whether to get a good (unbiased) estimate of this difference requires taking into account other factors, factors that can mitigate selection bias effects.  If such other factors are observable, they can be used as _covariates_ as controls.  What we'd want is for self esteem to be independent of HADS potential outcomes, conditional on those controlling covariates. It would allow us to estimate the average causal effect of a specific bump (or drop) in self esteem.\n"
   ]
  },
  {
   "cell_type": "markdown",
   "metadata": {},
   "source": [
    "### Omitted Controls"
   ]
  },
  {
   "cell_type": "markdown",
   "metadata": {},
   "source": [
    "Suppose we modified **MODEL 1** by adding TBSA to it as a predictor.  We might do that if we hypothesize that the initial extent of the injury might determine both subsequent HADS and subsequent self esteem.  Let's fit the model, **MODEL 2**:"
   ]
  },
  {
   "cell_type": "code",
   "execution_count": 20,
   "metadata": {},
   "outputs": [
    {
     "name": "stdout",
     "output_type": "stream",
     "text": [
      "               Estimate Std. Error    t value     Pr(>|t|)\n",
      "(Intercept) 32.22817447 4.52593825  7.1207720 5.849379e-10\n",
      "Selfesteem  -0.74333685 0.12482540 -5.9550130 8.094520e-08\n",
      "TBSA         0.05603103 0.09803635  0.5715332 5.693702e-01\n",
      "\n"
     ]
    }
   ],
   "source": [
    "mod2Formula='HADS~Selfesteem+TBSA'\n",
    "mod2_Fit=stats.lm(mod2Formula,data=rFaceBurns)\n",
    "mod2Summary=base.summary(mod2_Fit)\n",
    "print(mod2Summary.rx2('coefficients'))"
   ]
  },
  {
   "cell_type": "markdown",
   "metadata": {},
   "source": [
    "**EXERCISE** Graph **MODEL 2** using `daggity`. "
   ]
  },
  {
   "cell_type": "markdown",
   "metadata": {},
   "source": [
    "How much did the self esteem coefficient change?  Just a smidge, nominally speaking. But what might such changes in estimates be attributed to, given that they occur?  We can explore this a little by considering the situation were **MODEL 2** is \"correct,\" given the conditional independence assumption, and looking into what the implications for the **MODEL 1** estimates would be.  \n",
    "\n",
    "First, let's let **MODEL 2** be:  \n",
    "\n",
    "\\begin{align}\n",
    "HADS_i = \\beta_0 + \\beta_1*SE_i+\\beta_2*TBSA_i+\\zeta_i\n",
    "\\end{align}\n",
    "\n",
    "If **MODEL 2** is correct, then $\\beta_1$ the unbiased estimate of self esteem's (linear) effect on HADS.  If it's correct, then what does this mea\n",
    "n for **MODEL 1's** $\\beta$ estimate for self esteem?  It means that the **MODEL 1** $\\beta$ estimate for self esteem will include $\\beta_1$ of **MODEL 2** plus the product of $\\beta_2$ times the coefficient from regressing TBSA on self esteem.  This is kind of a mouthful, but suffice it to say that the effect of omitting TBSA on the $\\beta$ coefficient for self esteem in **MODEL 1** will be to \"push\" the **MODEL 1** coefficient up or down, depending on how TSBA is related to self-esteem.\n",
    "\n",
    "In the present case, the effect of omitting TBSA seems small.  The effect of self esteem on HADS doesn't appear to be confounded, at least not based on the data at hand."
   ]
  },
  {
   "cell_type": "markdown",
   "metadata": {},
   "source": [
    "### MORE MODELING!"
   ]
  },
  {
   "cell_type": "markdown",
   "metadata": {},
   "source": [
    "**EXERCISE**  \n",
    "\n",
    "Now add age to **MODEL 2** as another covariate.  Use `daggitty` to graph this model.\n",
    "\n",
    "Estimate this the model.  How is the $\\beta$ estimate for self esteem affected?  "
   ]
  }
 ],
 "metadata": {
  "hide_input": false,
  "kernelspec": {
   "display_name": "Python 3",
   "language": "python",
   "name": "python3"
  },
  "language_info": {
   "codemirror_mode": {
    "name": "ipython",
    "version": 3
   },
   "file_extension": ".py",
   "mimetype": "text/x-python",
   "name": "python",
   "nbconvert_exporter": "python",
   "pygments_lexer": "ipython3",
   "version": "3.5.5"
  },
  "latex_envs": {
   "LaTeX_envs_menu_present": true,
   "autoclose": false,
   "autocomplete": true,
   "bibliofile": "biblio.bib",
   "cite_by": "apalike",
   "current_citInitial": 1,
   "eqLabelWithNumbers": true,
   "eqNumInitial": 1,
   "hotkeys": {
    "equation": "Ctrl-E",
    "itemize": "Ctrl-I"
   },
   "labels_anchors": false,
   "latex_user_defs": false,
   "report_style_numbering": false,
   "user_envs_cfg": false
  }
 },
 "nbformat": 4,
 "nbformat_minor": 2
}
