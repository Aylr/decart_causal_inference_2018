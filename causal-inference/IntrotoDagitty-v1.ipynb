{
 "cells": [
  {
   "cell_type": "markdown",
   "metadata": {},
   "source": [
    "### Dagitty, Software for Analyzing Causal Diagrams"
   ]
  },
  {
   "cell_type": "markdown",
   "metadata": {},
   "source": [
    "**dagitty** is software for specifying and analyzing causal models as DAGs.\n",
    "\n",
    "It comes in various \"flavors,\" e.g. as a R package, as a download, and as runnable in a browser by accessing it online.\n",
    "\n",
    "Using it in a Jupyter notebook and with `rpy2` is a little clunky, so we're going to use the online version at [dagitty.net](http://dagitty.net)\n",
    "\n",
    "At this website you'll find information about this software, and a \"launch\" button that looks like this:  \n",
    "\n",
    "![launchbutt.png](launchbutt.png)"
   ]
  },
  {
   "cell_type": "markdown",
   "metadata": {},
   "source": [
    "Let's take a look.  Click on the link. You should see a `dagitty` \"canvas\" like this:"
   ]
  },
  {
   "cell_type": "markdown",
   "metadata": {},
   "source": [
    "![dagitty-canvas.png](dagitty-canvas.png)"
   ]
  },
  {
   "cell_type": "markdown",
   "metadata": {},
   "source": [
    "Let's fiddle with the `dagitty` canvas a bit."
   ]
  },
  {
   "cell_type": "markdown",
   "metadata": {},
   "source": [
    "###  A Few Minutes Getting to Know Daggity"
   ]
  },
  {
   "cell_type": "markdown",
   "metadata": {},
   "source": [
    "The \"canvas\" at the center of the page is a workspace where you can create and modify graphs.\n",
    "\n",
    "Above the canvas you'll see some pull-down menus.  Click on the **Model** menu.  You'll see options for creating a new graph, outputting graphs, and so on.  **Examples** provides some, **How-To** gives to tips, **Layout** rearranges a graph.  **Help** reveals a `daggity` manual.  \n",
    "    \n",
    " The panel to the left of the canvas provides options for setting the graph type, modifying colors, and selecting path colors. There's a legend indicating the labelling of things.  At the bottom is a summary of a graph's nodes, or variables.\n",
    " \n",
    "To the right of the canvas and at the top is a menu for selecting adjustments that can be made to estimate different kinds of effects. Below that is a box indicating the testable assumptions of a model.  For example, $X\\!\\perp\\!\\!\\!\\perp Y$ means that X and Y are independent. $X\\!\\perp\\!\\!\\!\\perp Y\\,|\\,Z$ means that X and Y are independent conditional on Z.  \n",
    "\n",
    "The bottom box at the right is where you can enter a model specification as text rather than drawing a model on the canvas. Each line here is a definition of one or more arrows, from a \"parent\" node to \"child\" nodes.  For example, the line Z X would indicate an arrow from Z to X.  Z X Y indicates arrows from Z to X and from Z to Y.  The numerical values in the box represent coordinates of nodes and arrows on the canvas.\n",
    "\n",
    "Typing an \"n\" while pointing to the canvas let's you create a node.  Pointing to a node and typing \"d\" will delete it.\n",
    "\n",
    "Pointing to a variable and typing \"r\" will let you rename it.\n",
    "\n",
    "You can change the type of each node by clicking hovering over it and typing a letter code:  \n",
    "\n",
    "Exposure = e  \n",
    "Outcome = o  \n",
    "Unobserved = u  \n",
    "Adjusted = a  \n"
   ]
  },
  {
   "cell_type": "markdown",
   "metadata": {},
   "source": [
    "### DO THIS EXERCISE! "
   ]
  },
  {
   "cell_type": "markdown",
   "metadata": {},
   "source": [
    "1. Use the **Model** pull down menu to create a new model.  Create an exposure variable X, and an outcome variable Y.  You should end up with an arrow from X to Y.  \n",
    "\n",
    "2. Next, add a variable Z.  Then, add an arrow from Z to X, and an arrow from Z to Y.  You can add an arros by double clicking on the \"parent node,\" and then double clicking on the \"child.\"  Or, you can hover over the parent node and type \"c\", and then hover over the child and type \"c.\"\n",
    "\n",
    "3. Note the colors of the arrows. There's a legend for colors and node types at the right.   Note what the boxes on the right indicate.\n",
    "\n",
    "4. Next, delete the arrow from Z to X.  You can do this in the same way that you created it.  Or, change the model code to the right of the canvas.  Note any changes in the boxes at the right.  If this DAG is for a linear regression model, what might that model be?  What might you want to add to it?  \n",
    "\n",
    "5. Draw an arrow from X to Z.  What does this DAG look like a model of?  \n",
    "\n",
    "6. Draw arrows from X1 and X2 to Y.  Add an unobserved error term, or exogenous variable, with an arrow to Y, and one with and error to X1.  Add an edge indicating correlation between these two unobserved"
   ]
  }
 ],
 "metadata": {
  "hide_input": false,
  "kernelspec": {
   "display_name": "Python 3",
   "language": "python",
   "name": "python3"
  },
  "language_info": {
   "codemirror_mode": {
    "name": "ipython",
    "version": 3
   },
   "file_extension": ".py",
   "mimetype": "text/x-python",
   "name": "python",
   "nbconvert_exporter": "python",
   "pygments_lexer": "ipython3",
   "version": "3.6.5"
  },
  "latex_envs": {
   "LaTeX_envs_menu_present": true,
   "autoclose": false,
   "autocomplete": true,
   "bibliofile": "biblio.bib",
   "cite_by": "apalike",
   "current_citInitial": 1,
   "eqLabelWithNumbers": true,
   "eqNumInitial": 1,
   "hotkeys": {
    "equation": "Ctrl-E",
    "itemize": "Ctrl-I"
   },
   "labels_anchors": false,
   "latex_user_defs": false,
   "report_style_numbering": false,
   "user_envs_cfg": false
  },
  "toc": {
   "base_numbering": 1,
   "nav_menu": {},
   "number_sections": true,
   "sideBar": true,
   "skip_h1_title": false,
   "title_cell": "Table of Contents",
   "title_sidebar": "Contents",
   "toc_cell": false,
   "toc_position": {},
   "toc_section_display": true,
   "toc_window_display": false
  },
  "varInspector": {
   "cols": {
    "lenName": 16,
    "lenType": 16,
    "lenVar": 40
   },
   "kernels_config": {
    "python": {
     "delete_cmd_postfix": "",
     "delete_cmd_prefix": "del ",
     "library": "var_list.py",
     "varRefreshCmd": "print(var_dic_list())"
    },
    "r": {
     "delete_cmd_postfix": ") ",
     "delete_cmd_prefix": "rm(",
     "library": "var_list.r",
     "varRefreshCmd": "cat(var_dic_list()) "
    }
   },
   "types_to_exclude": [
    "module",
    "function",
    "builtin_function_or_method",
    "instance",
    "_Feature"
   ],
   "window_display": false
  }
 },
 "nbformat": 4,
 "nbformat_minor": 2
}
