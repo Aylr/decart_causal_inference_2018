{
 "cells": [
  {
   "cell_type": "markdown",
   "metadata": {},
   "source": [
    "It should be clear by now that omitted variables can seriously bias estimates of causal effects.\n",
    "\n",
    "Omitted variables can be a cause of _endogeneity_ problems, evidenced by model residuals and one or more causal variables being correlated.  The result is biased estimates.\n",
    "\n",
    "A problematic omitted variable can be of various types. It can be a known (to the researcher) variable for which data are actually available, but not included in a model's specification.  It can be a known variable for which data aren't available. Or, it can be an unknown variable that a causal variable and an outcome variable are related to.  What's omitted might measurement error in a causal variable that's not modeled.  Other sources of endogeneity problems include when an outcome variable causes a causal variable, \"reverse\" causality, or \"simultaneity.\"\n",
    "\n",
    "When endogeneity exists, it may be possible to mitigate it using one or more _instrumental variables_, \"IVs.\"  "
   ]
  },
  {
   "cell_type": "markdown",
   "metadata": {},
   "source": [
    "### What's an Instrumental Variable?"
   ]
  },
  {
   "cell_type": "markdown",
   "metadata": {},
   "source": [
    "Consider a treatment or exposure variable X, and an outcome variable Y.  Regressing Y on X results in model disturbances $\\epsilon_i's$ that are correlated with X.  \n",
    "\n",
    "An IV is a variable that:  \n",
    "\n",
    "* does not directly cause Y\n",
    "* is not correlated with $\\epsilon$\n",
    "* \"causes\" X\n",
    "\n",
    "There must be at least as many IVs as there are X's needing instruments in a given model."
   ]
  },
  {
   "cell_type": "markdown",
   "metadata": {},
   "source": [
    "### Do a Daggity Graph"
   ]
  },
  {
   "cell_type": "markdown",
   "metadata": {},
   "source": [
    "Graph a model in which X is a Tx/exposure, Y is an outcome variable, IV is an instrument.  Connect X and Y through an unobserved variable U."
   ]
  },
  {
   "cell_type": "markdown",
   "metadata": {},
   "source": [
    "### Load Some Data"
   ]
  },
  {
   "cell_type": "markdown",
   "metadata": {},
   "source": [
    "There are some \"toy\" data in the file 'cholExer.csv' The variables are:\n",
    "\n",
    "* cholDrop = drop in total cholesterol after participating in a four week exercise program in which participants exercised three days a week, and recorded the length of time the exercised on each day in a diary.\n",
    "* exercise = average number of minutes/day across the three days in the four weeks of the program\n",
    "* secretSauce = you'll see"
   ]
  },
  {
   "cell_type": "markdown",
   "metadata": {},
   "source": [
    "### Get Needed Stuff"
   ]
  },
  {
   "cell_type": "code",
   "execution_count": 1,
   "metadata": {},
   "outputs": [],
   "source": [
    "from IPython.core.interactiveshell import InteractiveShell\n",
    "InteractiveShell.ast_node_interactivity = \"all\"\n",
    "import pandas as pd\n",
    "import numpy as np"
   ]
  },
  {
   "cell_type": "code",
   "execution_count": 2,
   "metadata": {},
   "outputs": [],
   "source": [
    "# This can just be commented out.  It's a kluge for one of my environ\n",
    "# import os\n",
    "# os.environ['R_HOME']='/home/lynd/anaconda36/lib/R'"
   ]
  },
  {
   "cell_type": "code",
   "execution_count": 2,
   "metadata": {},
   "outputs": [],
   "source": [
    "import rpy2\n",
    "import rpy2.robjects as robjects\n",
    "from rpy2.robjects.packages import importr\n",
    "import rpy2.interactive as r\n",
    "import rpy2.interactive.packages\n",
    "base=importr('base')\n",
    "utils=importr('utils')\n",
    "stats=importr('stats')"
   ]
  },
  {
   "cell_type": "code",
   "execution_count": 5,
   "metadata": {},
   "outputs": [],
   "source": [
    "# input the data from cholExer.csv\n",
    "cholEx=pd.read_csv('data/cholExer.csv')  \n",
    "#Note that this is a pands DataFrame.  Below you'll need to covert it to an R data.frame.  See the Regression notebook."
   ]
  },
  {
   "cell_type": "markdown",
   "metadata": {},
   "source": [
    "### Bivariate and Two Stage Least Squares (2SLS) Regressions."
   ]
  },
  {
   "cell_type": "markdown",
   "metadata": {},
   "source": [
    "**EXERCISE** Estimate a regression model using the R fundction lm() that predicts cholDrop with exercise. Extract the residuals, and plot them by the exercise variable.  \n",
    "\n",
    "TIP: You can use seaborn to plot residuals vs. exercise using seaborn, like the Regression notebook."
   ]
  },
  {
   "cell_type": "markdown",
   "metadata": {},
   "source": [
    "**EXERCISE** Now, imagine that \"secretSauce\" might be an instrument for exercise. First, regress exercise on secretSauce. Then, regress cholDrop on the values of exercise predicted by secretSauce.\n",
    "\n",
    "This is a basic example of using a *two stage least squares* (2SLS) procedure. secretSauce is used as an instrument for exercise. How does the regression coefficient estimate for predicted exercise in the second stage model compare to the estimate you got with your earlier model, the model that regressed cholDrop on the \"uninstrumented\" exercise predictor?\n"
   ]
  },
  {
   "cell_type": "markdown",
   "metadata": {},
   "source": [
    "### Using Software for IV Regression"
   ]
  },
  {
   "cell_type": "markdown",
   "metadata": {},
   "source": [
    "Using 2SLS to apply IVs like above produces results that require adjustment of instrumented predictors' variances and covariances. The adjustment can be done manually, but it's more convenience to use software that takes care of that. Let's try using the ivreg method in the R package AER."
   ]
  },
  {
   "cell_type": "code",
   "execution_count": 4,
   "metadata": {},
   "outputs": [],
   "source": [
    "rAER=importr('AER')"
   ]
  },
  {
   "cell_type": "code",
   "execution_count": 8,
   "metadata": {},
   "outputs": [],
   "source": [
    "cholIVFormula='cholDrop~exercise | secretSauce'  \n",
    "# Just one endogenous regressor.  See the AER doc for specifying mixes of exogenous and endogenous precdictors"
   ]
  },
  {
   "cell_type": "code",
   "execution_count": 7,
   "metadata": {},
   "outputs": [],
   "source": [
    "# Here's what might work for you:\n",
    "# cholIVResults=rAER.ivreg(cholIVFormula,data='yourRDatFrame')\n",
    "# base.summary(cholIVResults)"
   ]
  },
  {
   "cell_type": "markdown",
   "metadata": {},
   "source": [
    "**QUESTION**  \n",
    "\n",
    "How do your results from using AER's ivreg function differ from your 2SlS results?  \n",
    "\n",
    "**QUESTION**\n",
    "\n",
    "Finally, given what the cholesterol and exercise variables appear to be, what variables might fill the role of `secretSauce` as an IV?"
   ]
  }
 ],
 "metadata": {
  "hide_input": false,
  "kernelspec": {
   "display_name": "Python 3",
   "language": "python",
   "name": "python3"
  },
  "language_info": {
   "codemirror_mode": {
    "name": "ipython",
    "version": 3
   },
   "file_extension": ".py",
   "mimetype": "text/x-python",
   "name": "python",
   "nbconvert_exporter": "python",
   "pygments_lexer": "ipython3",
   "version": "3.5.5"
  },
  "latex_envs": {
   "LaTeX_envs_menu_present": true,
   "autoclose": false,
   "autocomplete": true,
   "bibliofile": "biblio.bib",
   "cite_by": "apalike",
   "current_citInitial": 1,
   "eqLabelWithNumbers": true,
   "eqNumInitial": 1,
   "hotkeys": {
    "equation": "Ctrl-E",
    "itemize": "Ctrl-I"
   },
   "labels_anchors": false,
   "latex_user_defs": false,
   "report_style_numbering": false,
   "user_envs_cfg": false
  }
 },
 "nbformat": 4,
 "nbformat_minor": 2
}
