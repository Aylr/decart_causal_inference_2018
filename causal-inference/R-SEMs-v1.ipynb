{
 "cells": [
  {
   "cell_type": "markdown",
   "metadata": {},
   "source": [
    "We're going to do a little R here because the R package we want to use doesn't play well with rpy2.  It happens."
   ]
  },
  {
   "cell_type": "code",
   "execution_count": 5,
   "metadata": {},
   "outputs": [],
   "source": [
    "library(lavaan)  #we're using the lavaan R package"
   ]
  },
  {
   "cell_type": "code",
   "execution_count": 2,
   "metadata": {},
   "outputs": [
    {
     "data": {
      "text/html": [
       "'/home/lyndbacon'"
      ],
      "text/latex": [
       "'/home/lyndbacon'"
      ],
      "text/markdown": [
       "'/home/lyndbacon'"
      ],
      "text/plain": [
       "[1] \"/home/lyndbacon\""
      ]
     },
     "metadata": {},
     "output_type": "display_data"
    }
   ],
   "source": [
    "getwd()  #checking the current working directory"
   ]
  },
  {
   "cell_type": "code",
   "execution_count": 1,
   "metadata": {},
   "outputs": [],
   "source": [
    "FacialBurns=read.csv('data/FacialBurns.csv') # Change this if needed"
   ]
  },
  {
   "cell_type": "code",
   "execution_count": 4,
   "metadata": {},
   "outputs": [
    {
     "data": {
      "text/html": [
       "<table>\n",
       "<thead><tr><th scope=col>Selfesteem</th><th scope=col>HADS</th><th scope=col>Age</th><th scope=col>TBSA</th><th scope=col>Sex</th></tr></thead>\n",
       "<tbody>\n",
       "\t<tr><td>35   </td><td> 6   </td><td>23   </td><td> 3.50</td><td>1    </td></tr>\n",
       "\t<tr><td>40   </td><td> 2   </td><td>61   </td><td> 6.00</td><td>1    </td></tr>\n",
       "\t<tr><td>38   </td><td> 2   </td><td>34   </td><td> 8.00</td><td>1    </td></tr>\n",
       "\t<tr><td>30   </td><td> 4   </td><td>29   </td><td> 6.00</td><td>1    </td></tr>\n",
       "\t<tr><td>27   </td><td>11   </td><td>46   </td><td>19.25</td><td>1    </td></tr>\n",
       "\t<tr><td>35   </td><td> 5   </td><td>18   </td><td> 6.00</td><td>1    </td></tr>\n",
       "</tbody>\n",
       "</table>\n"
      ],
      "text/latex": [
       "\\begin{tabular}{r|lllll}\n",
       " Selfesteem & HADS & Age & TBSA & Sex\\\\\n",
       "\\hline\n",
       "\t 35    &  6    & 23    &  3.50 & 1    \\\\\n",
       "\t 40    &  2    & 61    &  6.00 & 1    \\\\\n",
       "\t 38    &  2    & 34    &  8.00 & 1    \\\\\n",
       "\t 30    &  4    & 29    &  6.00 & 1    \\\\\n",
       "\t 27    & 11    & 46    & 19.25 & 1    \\\\\n",
       "\t 35    &  5    & 18    &  6.00 & 1    \\\\\n",
       "\\end{tabular}\n"
      ],
      "text/markdown": [
       "\n",
       "Selfesteem | HADS | Age | TBSA | Sex | \n",
       "|---|---|---|---|---|---|\n",
       "| 35    |  6    | 23    |  3.50 | 1     | \n",
       "| 40    |  2    | 61    |  6.00 | 1     | \n",
       "| 38    |  2    | 34    |  8.00 | 1     | \n",
       "| 30    |  4    | 29    |  6.00 | 1     | \n",
       "| 27    | 11    | 46    | 19.25 | 1     | \n",
       "| 35    |  5    | 18    |  6.00 | 1     | \n",
       "\n",
       "\n"
      ],
      "text/plain": [
       "  Selfesteem HADS Age TBSA  Sex\n",
       "1 35          6   23   3.50 1  \n",
       "2 40          2   61   6.00 1  \n",
       "3 38          2   34   8.00 1  \n",
       "4 30          4   29   6.00 1  \n",
       "5 27         11   46  19.25 1  \n",
       "6 35          5   18   6.00 1  "
      ]
     },
     "metadata": {},
     "output_type": "display_data"
    }
   ],
   "source": [
    "head(FacialBurns)"
   ]
  },
  {
   "cell_type": "markdown",
   "metadata": {},
   "source": [
    "### Model 1"
   ]
  },
  {
   "cell_type": "markdown",
   "metadata": {},
   "source": [
    "Next, we need to specify **Model 1** model formula for lavaan"
   ]
  },
  {
   "cell_type": "code",
   "execution_count": 25,
   "metadata": {},
   "outputs": [],
   "source": [
    "mod1Formula='HADS~Selfesteem + TBSA\n",
    "             TBSA~Selfesteem\n",
    "            '"
   ]
  },
  {
   "cell_type": "markdown",
   "metadata": {},
   "source": [
    "Next, get lavaan results."
   ]
  },
  {
   "cell_type": "code",
   "execution_count": 33,
   "metadata": {},
   "outputs": [],
   "source": [
    "mod1Res=lavaan(model=mod1Formula,data=FacialBurns,auto.var=TRUE)"
   ]
  },
  {
   "cell_type": "code",
   "execution_count": 38,
   "metadata": {},
   "outputs": [
    {
     "name": "stdout",
     "output_type": "stream",
     "text": [
      "lavaan (0.6-1) converged normally after  15 iterations\n",
      "\n",
      "  Number of observations                            77\n",
      "\n",
      "  Estimator                                         ML\n",
      "  Model Fit Test Statistic                       0.000\n",
      "  Degrees of freedom                                 0\n",
      "  Minimum Function Value               0.0000000000000\n",
      "\n",
      "Model test baseline model:\n",
      "\n",
      "  Minimum Function Test Statistic               48.945\n",
      "  Degrees of freedom                                 3\n",
      "  P-value                                        0.000\n",
      "\n",
      "User model versus baseline model:\n",
      "\n",
      "  Comparative Fit Index (CFI)                    1.000\n",
      "  Tucker-Lewis Index (TLI)                       1.000\n",
      "\n",
      "Loglikelihood and Information Criteria:\n",
      "\n",
      "  Loglikelihood user model (H0)               -498.236\n",
      "  Loglikelihood unrestricted model (H1)       -498.236\n",
      "\n",
      "  Number of free parameters                          5\n",
      "  Akaike (AIC)                                1006.471\n",
      "  Bayesian (BIC)                              1018.190\n",
      "  Sample-size adjusted Bayesian (BIC)         1002.428\n",
      "\n",
      "Root Mean Square Error of Approximation:\n",
      "\n",
      "  RMSEA                                          0.000\n",
      "  90 Percent Confidence Interval          0.000  0.000\n",
      "  P-value RMSEA <= 0.05                             NA\n",
      "\n",
      "Standardized Root Mean Square Residual:\n",
      "\n",
      "  SRMR                                           0.000\n",
      "\n",
      "Parameter Estimates:\n",
      "\n",
      "  Information                                 Expected\n",
      "  Information saturated (h1) model          Structured\n",
      "  Standard Errors                             Standard\n",
      "\n",
      "Regressions:\n",
      "                   Estimate  Std.Err  z-value  P(>|z|)\n",
      "  HADS ~                                              \n",
      "    Selfesteem       -0.743    0.122   -6.075    0.000\n",
      "    TBSA              0.056    0.096    0.583    0.560\n",
      "  TBSA ~                                              \n",
      "    Selfesteem       -0.490    0.134   -3.655    0.000\n",
      "\n",
      "Variances:\n",
      "                   Estimate  Std.Err  z-value  P(>|z|)\n",
      "   .HADS             31.891    5.140    6.205    0.000\n",
      "   .TBSA             44.840    7.227    6.205    0.000\n",
      "\n"
     ]
    }
   ],
   "source": [
    "summary(mod1Res,fit.measures=TRUE)"
   ]
  },
  {
   "cell_type": "markdown",
   "metadata": {},
   "source": [
    "There are _scads_ of fit indices for SEMs.  Here you can find a summary of many commonly used ones:  \n",
    "\n",
    "[Kenny's Fit Indices Page](http://davidakenny.net/cm/fit.htm)"
   ]
  },
  {
   "cell_type": "markdown",
   "metadata": {},
   "source": [
    "**QUESTION** Do you notice anything unusual or surprising in the output, above?"
   ]
  },
  {
   "cell_type": "markdown",
   "metadata": {},
   "source": [
    "### Model 2"
   ]
  },
  {
   "cell_type": "markdown",
   "metadata": {},
   "source": [
    "Next, estimate **Model 2**.  Here's the `lavaan` formula:"
   ]
  },
  {
   "cell_type": "code",
   "execution_count": 42,
   "metadata": {},
   "outputs": [],
   "source": [
    "mod2Formula='HADS~Selfesteem\n",
    "             TBSA~Selfesteem\n",
    "            '"
   ]
  },
  {
   "cell_type": "markdown",
   "metadata": {},
   "source": [
    "Your model 2 code and results go here."
   ]
  },
  {
   "cell_type": "markdown",
   "metadata": {},
   "source": [
    "**QUESTION** How do your **Model 2** results compare to your **Model 1** results?"
   ]
  }
 ],
 "metadata": {
  "kernelspec": {
   "display_name": "R",
   "language": "R",
   "name": "ir"
  },
  "language_info": {
   "codemirror_mode": "r",
   "file_extension": ".r",
   "mimetype": "text/x-r-source",
   "name": "R",
   "pygments_lexer": "r",
   "version": "3.4.1"
  }
 },
 "nbformat": 4,
 "nbformat_minor": 2
}
